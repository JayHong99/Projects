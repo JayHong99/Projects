{
 "cells": [
  {
   "cell_type": "code",
   "execution_count": 1,
   "id": "4c0bf05f",
   "metadata": {},
   "outputs": [],
   "source": [
    "# load packages\n",
    "import pandas as pd\n",
    "import numpy as np\n",
    "\n",
    "import torch\n",
    "import torch.nn as nn\n",
    "import torch.nn.functional as F\n",
    "import torch.optim as optim\n",
    "from torch.utils.data import DataLoader, Dataset\n",
    "\n",
    "import os\n",
    "os.environ['CUDA_VISIBLE_DEVICES'] = '0' \n",
    "\n",
    "import warnings\n",
    "warnings.filterwarnings('ignore')\n",
    "warnings.simplefilter('ignore')\n",
    "\n",
    "#device = 'cuda' if torch.cuda.is_available() else 'cpu'\n",
    "device = 'cpu'\n",
    "torch.backends.cudnn.enabled = False\n",
    "torch.backends.cudnn.benchmark = False\n",
    "\n",
    "import random\n",
    "random.seed(777)\n",
    "torch.manual_seed(777)\n",
    "if device == 'cuda':\n",
    "    torch.cuda.manual_seed_all(777)"
   ]
  },
  {
   "cell_type": "code",
   "execution_count": 2,
   "id": "ddcff8f5",
   "metadata": {},
   "outputs": [],
   "source": [
    "train_data = pd.read_csv('./data/train.csv')\n",
    "test_data = pd.read_csv('./data/test.csv')\n",
    "sample = pd.read_csv('./data/sample_submission.csv')"
   ]
  },
  {
   "cell_type": "code",
   "execution_count": 3,
   "id": "77d2a403",
   "metadata": {},
   "outputs": [
    {
     "data": {
      "text/html": [
       "<div>\n",
       "<style scoped>\n",
       "    .dataframe tbody tr th:only-of-type {\n",
       "        vertical-align: middle;\n",
       "    }\n",
       "\n",
       "    .dataframe tbody tr th {\n",
       "        vertical-align: top;\n",
       "    }\n",
       "\n",
       "    .dataframe thead th {\n",
       "        text-align: right;\n",
       "    }\n",
       "</style>\n",
       "<table border=\"1\" class=\"dataframe\">\n",
       "  <thead>\n",
       "    <tr style=\"text-align: right;\">\n",
       "      <th></th>\n",
       "      <th>id</th>\n",
       "      <th>Gender</th>\n",
       "      <th>Customer Type</th>\n",
       "      <th>Age</th>\n",
       "      <th>Type of Travel</th>\n",
       "      <th>Class</th>\n",
       "      <th>Flight Distance</th>\n",
       "      <th>Seat comfort</th>\n",
       "      <th>Departure/Arrival time convenient</th>\n",
       "      <th>Food and drink</th>\n",
       "      <th>...</th>\n",
       "      <th>Ease of Online booking</th>\n",
       "      <th>On-board service</th>\n",
       "      <th>Leg room service</th>\n",
       "      <th>Baggage handling</th>\n",
       "      <th>Checkin service</th>\n",
       "      <th>Cleanliness</th>\n",
       "      <th>Online boarding</th>\n",
       "      <th>Departure Delay in Minutes</th>\n",
       "      <th>Arrival Delay in Minutes</th>\n",
       "      <th>target</th>\n",
       "    </tr>\n",
       "  </thead>\n",
       "  <tbody>\n",
       "    <tr>\n",
       "      <th>0</th>\n",
       "      <td>1</td>\n",
       "      <td>Female</td>\n",
       "      <td>disloyal Customer</td>\n",
       "      <td>22</td>\n",
       "      <td>Business travel</td>\n",
       "      <td>Eco</td>\n",
       "      <td>1599</td>\n",
       "      <td>3</td>\n",
       "      <td>0</td>\n",
       "      <td>3</td>\n",
       "      <td>...</td>\n",
       "      <td>4</td>\n",
       "      <td>5</td>\n",
       "      <td>4</td>\n",
       "      <td>4</td>\n",
       "      <td>4</td>\n",
       "      <td>5</td>\n",
       "      <td>4</td>\n",
       "      <td>0</td>\n",
       "      <td>0.0</td>\n",
       "      <td>0</td>\n",
       "    </tr>\n",
       "    <tr>\n",
       "      <th>1</th>\n",
       "      <td>2</td>\n",
       "      <td>Female</td>\n",
       "      <td>Loyal Customer</td>\n",
       "      <td>37</td>\n",
       "      <td>Business travel</td>\n",
       "      <td>Business</td>\n",
       "      <td>2810</td>\n",
       "      <td>2</td>\n",
       "      <td>4</td>\n",
       "      <td>4</td>\n",
       "      <td>...</td>\n",
       "      <td>5</td>\n",
       "      <td>5</td>\n",
       "      <td>4</td>\n",
       "      <td>2</td>\n",
       "      <td>1</td>\n",
       "      <td>5</td>\n",
       "      <td>2</td>\n",
       "      <td>18</td>\n",
       "      <td>18.0</td>\n",
       "      <td>0</td>\n",
       "    </tr>\n",
       "    <tr>\n",
       "      <th>2</th>\n",
       "      <td>3</td>\n",
       "      <td>Male</td>\n",
       "      <td>Loyal Customer</td>\n",
       "      <td>46</td>\n",
       "      <td>Business travel</td>\n",
       "      <td>Business</td>\n",
       "      <td>2622</td>\n",
       "      <td>1</td>\n",
       "      <td>1</td>\n",
       "      <td>1</td>\n",
       "      <td>...</td>\n",
       "      <td>4</td>\n",
       "      <td>4</td>\n",
       "      <td>4</td>\n",
       "      <td>4</td>\n",
       "      <td>5</td>\n",
       "      <td>4</td>\n",
       "      <td>3</td>\n",
       "      <td>0</td>\n",
       "      <td>0.0</td>\n",
       "      <td>1</td>\n",
       "    </tr>\n",
       "    <tr>\n",
       "      <th>3</th>\n",
       "      <td>4</td>\n",
       "      <td>Female</td>\n",
       "      <td>disloyal Customer</td>\n",
       "      <td>24</td>\n",
       "      <td>Business travel</td>\n",
       "      <td>Eco</td>\n",
       "      <td>2348</td>\n",
       "      <td>3</td>\n",
       "      <td>3</td>\n",
       "      <td>3</td>\n",
       "      <td>...</td>\n",
       "      <td>3</td>\n",
       "      <td>2</td>\n",
       "      <td>4</td>\n",
       "      <td>5</td>\n",
       "      <td>3</td>\n",
       "      <td>4</td>\n",
       "      <td>3</td>\n",
       "      <td>10</td>\n",
       "      <td>2.0</td>\n",
       "      <td>0</td>\n",
       "    </tr>\n",
       "    <tr>\n",
       "      <th>4</th>\n",
       "      <td>5</td>\n",
       "      <td>Female</td>\n",
       "      <td>Loyal Customer</td>\n",
       "      <td>58</td>\n",
       "      <td>Business travel</td>\n",
       "      <td>Business</td>\n",
       "      <td>105</td>\n",
       "      <td>3</td>\n",
       "      <td>3</td>\n",
       "      <td>3</td>\n",
       "      <td>...</td>\n",
       "      <td>4</td>\n",
       "      <td>4</td>\n",
       "      <td>4</td>\n",
       "      <td>4</td>\n",
       "      <td>4</td>\n",
       "      <td>4</td>\n",
       "      <td>5</td>\n",
       "      <td>0</td>\n",
       "      <td>0.0</td>\n",
       "      <td>1</td>\n",
       "    </tr>\n",
       "  </tbody>\n",
       "</table>\n",
       "<p>5 rows × 24 columns</p>\n",
       "</div>"
      ],
      "text/plain": [
       "   id  Gender      Customer Type  Age   Type of Travel     Class  \\\n",
       "0   1  Female  disloyal Customer   22  Business travel       Eco   \n",
       "1   2  Female     Loyal Customer   37  Business travel  Business   \n",
       "2   3    Male     Loyal Customer   46  Business travel  Business   \n",
       "3   4  Female  disloyal Customer   24  Business travel       Eco   \n",
       "4   5  Female     Loyal Customer   58  Business travel  Business   \n",
       "\n",
       "   Flight Distance  Seat comfort  Departure/Arrival time convenient  \\\n",
       "0             1599             3                                  0   \n",
       "1             2810             2                                  4   \n",
       "2             2622             1                                  1   \n",
       "3             2348             3                                  3   \n",
       "4              105             3                                  3   \n",
       "\n",
       "   Food and drink  ...  Ease of Online booking  On-board service  \\\n",
       "0               3  ...                       4                 5   \n",
       "1               4  ...                       5                 5   \n",
       "2               1  ...                       4                 4   \n",
       "3               3  ...                       3                 2   \n",
       "4               3  ...                       4                 4   \n",
       "\n",
       "   Leg room service  Baggage handling  Checkin service  Cleanliness  \\\n",
       "0                 4                 4                4            5   \n",
       "1                 4                 2                1            5   \n",
       "2                 4                 4                5            4   \n",
       "3                 4                 5                3            4   \n",
       "4                 4                 4                4            4   \n",
       "\n",
       "   Online boarding  Departure Delay in Minutes  Arrival Delay in Minutes  \\\n",
       "0                4                           0                       0.0   \n",
       "1                2                          18                      18.0   \n",
       "2                3                           0                       0.0   \n",
       "3                3                          10                       2.0   \n",
       "4                5                           0                       0.0   \n",
       "\n",
       "   target  \n",
       "0       0  \n",
       "1       0  \n",
       "2       1  \n",
       "3       0  \n",
       "4       1  \n",
       "\n",
       "[5 rows x 24 columns]"
      ]
     },
     "execution_count": 3,
     "metadata": {},
     "output_type": "execute_result"
    }
   ],
   "source": [
    "train_data.head()"
   ]
  },
  {
   "cell_type": "code",
   "execution_count": 4,
   "id": "05696fe4",
   "metadata": {},
   "outputs": [],
   "source": [
    "X = train_data.drop(columns = ['id','target'], axis = 1)"
   ]
  },
  {
   "cell_type": "code",
   "execution_count": 5,
   "id": "ca6a3144",
   "metadata": {},
   "outputs": [
    {
     "data": {
      "text/plain": [
       "(3000, 22)"
      ]
     },
     "execution_count": 5,
     "metadata": {},
     "output_type": "execute_result"
    }
   ],
   "source": [
    "X.shape"
   ]
  },
  {
   "cell_type": "code",
   "execution_count": 6,
   "id": "e8eedf9f",
   "metadata": {},
   "outputs": [],
   "source": [
    "binary_obj_columns = ['Gender', 'Customer Type', 'Type of Travel']\n",
    "numerical_columns = ['Age', 'Departure Delay in Minutes', 'Arrival Delay in Minutes', 'Flight Distance']\n",
    "multical_obj_columns = list(set(X.columns) - set(binary_obj_columns) - set(numerical_columns))"
   ]
  },
  {
   "cell_type": "markdown",
   "id": "8cfcf793",
   "metadata": {},
   "source": [
    "# Set Data"
   ]
  },
  {
   "cell_type": "markdown",
   "id": "dd4e20ef",
   "metadata": {},
   "source": [
    "## Binary Data => label mapping"
   ]
  },
  {
   "cell_type": "code",
   "execution_count": 7,
   "id": "ff5a73a3",
   "metadata": {},
   "outputs": [],
   "source": [
    "X_train_num = pd.DataFrame()\n",
    "X_test_num = pd.DataFrame()\n",
    "\n",
    "for col in binary_obj_columns : \n",
    "    map_dict = {key : num for num,key in enumerate(train_data[col].unique())}\n",
    "    X_train_num[col] = train_data[col].map(map_dict)\n",
    "    X_test_num[col] = test_data[col].map(map_dict)"
   ]
  },
  {
   "cell_type": "code",
   "execution_count": 8,
   "id": "06ebd997",
   "metadata": {},
   "outputs": [
    {
     "data": {
      "text/html": [
       "<div>\n",
       "<style scoped>\n",
       "    .dataframe tbody tr th:only-of-type {\n",
       "        vertical-align: middle;\n",
       "    }\n",
       "\n",
       "    .dataframe tbody tr th {\n",
       "        vertical-align: top;\n",
       "    }\n",
       "\n",
       "    .dataframe thead th {\n",
       "        text-align: right;\n",
       "    }\n",
       "</style>\n",
       "<table border=\"1\" class=\"dataframe\">\n",
       "  <thead>\n",
       "    <tr style=\"text-align: right;\">\n",
       "      <th></th>\n",
       "      <th>Gender</th>\n",
       "      <th>Customer Type</th>\n",
       "      <th>Type of Travel</th>\n",
       "    </tr>\n",
       "  </thead>\n",
       "  <tbody>\n",
       "    <tr>\n",
       "      <th>0</th>\n",
       "      <td>0</td>\n",
       "      <td>0</td>\n",
       "      <td>0</td>\n",
       "    </tr>\n",
       "    <tr>\n",
       "      <th>1</th>\n",
       "      <td>0</td>\n",
       "      <td>1</td>\n",
       "      <td>0</td>\n",
       "    </tr>\n",
       "    <tr>\n",
       "      <th>2</th>\n",
       "      <td>1</td>\n",
       "      <td>1</td>\n",
       "      <td>0</td>\n",
       "    </tr>\n",
       "    <tr>\n",
       "      <th>3</th>\n",
       "      <td>0</td>\n",
       "      <td>0</td>\n",
       "      <td>0</td>\n",
       "    </tr>\n",
       "    <tr>\n",
       "      <th>4</th>\n",
       "      <td>0</td>\n",
       "      <td>1</td>\n",
       "      <td>0</td>\n",
       "    </tr>\n",
       "  </tbody>\n",
       "</table>\n",
       "</div>"
      ],
      "text/plain": [
       "   Gender  Customer Type  Type of Travel\n",
       "0       0              0               0\n",
       "1       0              1               0\n",
       "2       1              1               0\n",
       "3       0              0               0\n",
       "4       0              1               0"
      ]
     },
     "execution_count": 8,
     "metadata": {},
     "output_type": "execute_result"
    }
   ],
   "source": [
    "X_train_num.head()"
   ]
  },
  {
   "cell_type": "markdown",
   "id": "a4f3cdf2",
   "metadata": {},
   "source": [
    "## Numerical Data => 4 Grouping"
   ]
  },
  {
   "cell_type": "code",
   "execution_count": 9,
   "id": "72fc69aa",
   "metadata": {
    "scrolled": true
   },
   "outputs": [],
   "source": [
    "X_train_group = pd.DataFrame()\n",
    "X_test_group = pd.DataFrame()\n",
    "\n",
    "for col in numerical_columns :     \n",
    "    X_train_num[col] = train_data[col]\n",
    "    X_test_num[col] = test_data[col]\n",
    "    \n",
    "    data = train_data[col]\n",
    "    _, bins = pd.qcut(data, 4, retbins=True, labels=False, duplicates='drop')\n",
    "    X_train_group[col+'_group'] = train_data[col].apply(lambda x : sum([x >= a for a in bins]))\n",
    "    X_test_group[col+'_group'] = test_data[col].apply(lambda x : sum([x >= a for a in bins]))"
   ]
  },
  {
   "cell_type": "markdown",
   "id": "5bff87ef",
   "metadata": {},
   "source": [
    "## Multical Data => Label Encoding & MTE"
   ]
  },
  {
   "cell_type": "code",
   "execution_count": 10,
   "id": "be104d28",
   "metadata": {},
   "outputs": [],
   "source": [
    "for col in multical_obj_columns : \n",
    "    map_dict = {key : num for num, key in enumerate(sorted(train_data[col].unique()))}\n",
    "    X_train_group[col] = train_data[col].map(map_dict)\n",
    "    X_test_group[col] = test_data[col].map(map_dict)"
   ]
  },
  {
   "cell_type": "markdown",
   "id": "3c6702aa",
   "metadata": {},
   "source": [
    "# Modeling"
   ]
  },
  {
   "cell_type": "markdown",
   "id": "3ff4da17",
   "metadata": {},
   "source": [
    "## Set Data Loader"
   ]
  },
  {
   "cell_type": "code",
   "execution_count": 11,
   "id": "3dd65583",
   "metadata": {},
   "outputs": [
    {
     "name": "stdout",
     "output_type": "stream",
     "text": [
      "(3000, 26) (2000, 26) (3000,)\n"
     ]
    }
   ],
   "source": [
    "num_cols = list(X_train_num.columns)\n",
    "cat_cols = list(X_train_group.columns)\n",
    "\n",
    "X_train = pd.concat([X_train_num, X_train_group], axis = 1)\n",
    "X_test = pd.concat([X_test_num, X_test_group], axis = 1)\n",
    "Y = train_data['target'].values\n",
    "\n",
    "inp_oup_dims = [[x , x//2] for x in X_train[cat_cols].nunique()]\n",
    "\n",
    "print(X_train.shape, X_test.shape, Y.shape)"
   ]
  },
  {
   "cell_type": "code",
   "execution_count": 12,
   "id": "3cca4584",
   "metadata": {},
   "outputs": [],
   "source": [
    "class CustomDataset(Dataset) : \n",
    "    \n",
    "    def __init__(self, x, y, cat_cols, num_cols) : \n",
    "        \n",
    "        self.x_cat = x[cat_cols].copy().values.astype(np.int64)\n",
    "        self.x_num = x[num_cols].copy().values.astype(np.float32)\n",
    "        self.y = y.astype(np.float32)\n",
    "        \n",
    "    def __len__(self) : \n",
    "        return len(self.y)\n",
    "    \n",
    "    def __getitem__(self, idx) : \n",
    "        return self.x_cat[idx], self.x_num[idx], self.y[idx]"
   ]
  },
  {
   "cell_type": "code",
   "execution_count": 13,
   "id": "b53d1daf",
   "metadata": {},
   "outputs": [],
   "source": [
    "def return_dataloaders(batch_size, random_state = 0) :\n",
    "    from sklearn.model_selection import train_test_split\n",
    "\n",
    "    data_range = X_train_group.index\n",
    "\n",
    "    train_idx, valid_idx = train_test_split(data_range, shuffle = True, stratify = Y, test_size = .5, random_state = random_state)\n",
    "\n",
    "    X_tr,y_tr = X_train.iloc[train_idx],  Y[train_idx]\n",
    "    X_val,y_val = X_train.iloc[valid_idx], Y[valid_idx]\n",
    "\n",
    "    train_ds = CustomDataset(X_tr, y_tr, cat_cols, num_cols)\n",
    "    valid_ds = CustomDataset(X_val, y_val, cat_cols, num_cols)\n",
    "\n",
    "    train_dl = DataLoader(train_ds, batch_size=batch_size)\n",
    "    valid_dl = DataLoader(valid_ds, batch_size=batch_size)\n",
    "\n",
    "    dataloaders = {}\n",
    "    dataloaders['train'] = train_dl\n",
    "    dataloaders['valid'] = valid_dl\n",
    "\n",
    "    return dataloaders"
   ]
  },
  {
   "cell_type": "code",
   "execution_count": 14,
   "id": "42432bb8",
   "metadata": {},
   "outputs": [],
   "source": [
    "batch_size = 1024\n",
    "dataloaders = return_dataloaders(batch_size)"
   ]
  },
  {
   "cell_type": "markdown",
   "id": "860b8cc7",
   "metadata": {},
   "source": [
    "## Set Model"
   ]
  },
  {
   "cell_type": "code",
   "execution_count": 15,
   "id": "ef22ba0b",
   "metadata": {},
   "outputs": [],
   "source": [
    "def weights_init(m):\n",
    "    classname = m.__class__.__name__\n",
    "    if classname.find('BatchNorm') != -1:\n",
    "        nn.init.normal_(m.weight.data, 1.0, 0.02)\n",
    "        nn.init.constant_(m.bias.data, 0)"
   ]
  },
  {
   "cell_type": "code",
   "execution_count": 16,
   "id": "2275c23c",
   "metadata": {},
   "outputs": [],
   "source": [
    "class FC_Block(nn.Module) : \n",
    "    def __init__(self, inp_dim, out_dim) : \n",
    "        super(FC_Block, self).__init__()\n",
    "        self.linear = nn.Linear(inp_dim, out_dim)\n",
    "        self.batch = nn.BatchNorm1d(out_dim)\n",
    "    \n",
    "    def forward(self, x) : \n",
    "        x = self.linear(x)\n",
    "        x = self.batch(x)\n",
    "        return x"
   ]
  },
  {
   "cell_type": "code",
   "execution_count": 17,
   "id": "05519e39",
   "metadata": {},
   "outputs": [],
   "source": [
    "class EMBNN(nn.Module) : \n",
    "    def __init__(self, inp_oup_dims, num_continuous) : \n",
    "        super(EMBNN, self).__init__()\n",
    "        \n",
    "        self.embeddings = nn.ModuleList([\n",
    "            nn.Embedding(inp_dim+1, out_dim) for inp_dim ,out_dim in inp_oup_dims])\n",
    "        self.n_emb = sum(e.embedding_dim for e in self.embeddings)\n",
    "        self.emb_drop = nn.Dropout(0.3)\n",
    "    \n",
    "        self.cont_norm = nn.BatchNorm1d(num_continuous)\n",
    "        self.n_con = num_continuous\n",
    "        \n",
    "        self.FFC = nn.Sequential(\n",
    "                                                                FC_Block(self.n_emb + self.n_con, 32),\n",
    "                                                                nn.Dropout(0.2),\n",
    "                                                                FC_Block(32, 8),\n",
    "                                                                nn.Dropout(0.2),\n",
    "                                                                nn.Linear(8,1),\n",
    "                                                                )\n",
    "        \n",
    "    def forward(self, x_cat, x_cont) : \n",
    "        x_cat = [e(x_cat[:,i]) for i , e in enumerate(self.embeddings)]\n",
    "        x_cat = torch.cat(x_cat, 1)\n",
    "        x_cat = self.emb_drop(x_cat)\n",
    "        x_cont = self.cont_norm(x_cont)\n",
    "        x = torch.cat([x_cat, x_cont], 1)\n",
    "        x = self.FFC(x)\n",
    "        \n",
    "        return F.sigmoid(x)"
   ]
  },
  {
   "cell_type": "markdown",
   "id": "fde55712",
   "metadata": {},
   "source": [
    "## Train"
   ]
  },
  {
   "cell_type": "code",
   "execution_count": 18,
   "id": "706282ee",
   "metadata": {
    "scrolled": true
   },
   "outputs": [],
   "source": [
    "def train_model(model, dataloader, optimizer, criterion, num_epoch, early_stop, model_path) : \n",
    "    \n",
    "    best_val_loss = np.float('inf')\n",
    "    early_stop_epoch  = 0\n",
    "    \n",
    "    for epoch in range(num_epoch) : \n",
    "        for phase in ['train','valid'] : \n",
    "            if phase == 'train' : \n",
    "                model.train()\n",
    "            elif phase == 'valid' : \n",
    "                model.eval()\n",
    "            running_loss = 0\n",
    "            running_corr = 0\n",
    "            total = 0\n",
    "\n",
    "            for x_cat, x_num ,y in dataloaders[phase] : \n",
    "                x_cat = x_cat.to(device)\n",
    "                x_num = x_num.to(device)\n",
    "                y = y.to(device)\n",
    "\n",
    "                optimizer.zero_grad()\n",
    "                total += x_cat.size(0)\n",
    "\n",
    "                with torch.set_grad_enabled(phase == 'train') : \n",
    "                    output = model(x_cat, x_num)\n",
    "                    loss =criterion(output.squeeze(), y)\n",
    "\n",
    "                    if phase == 'train' : \n",
    "                        loss.backward()\n",
    "                        optimizer.step()\n",
    "\n",
    "                running_loss += loss.item()\n",
    "                running_corr += (output.round() == y.unsqueeze(1)).sum().item()\n",
    "\n",
    "            epoch_loss = running_loss / total\n",
    "            epoch_acc = running_corr/total\n",
    "\n",
    "\n",
    "            if phase == 'valid' and epoch_loss < best_val_loss : \n",
    "                \n",
    "                best_val_loss = epoch_loss\n",
    "                best_acc = epoch_acc\n",
    "                torch.save(model.state_dict(), model_path)\n",
    "                early_stop_epoch = 0\n",
    "                best_epoch = epoch\n",
    "\n",
    "            elif phase == 'valid' : \n",
    "                early_stop_epoch += 1\n",
    "\n",
    "        if (early_stop_epoch >= early_stop) or (epoch == num_epoch-1) : \n",
    "            \"Early Stop Occured on epoch\" + str(epoch)\n",
    "            print(f'On Epoch {best_epoch}, Best Model Saved with Valid Loss {round(epoch_loss, 6)} and Acc {round(epoch_acc, 4)*100}%')\n",
    "            break;\n",
    "            \n",
    "    model.load_state_dict(torch.load(model_path))\n",
    "    return model"
   ]
  },
  {
   "cell_type": "markdown",
   "id": "33b4e8da",
   "metadata": {},
   "source": [
    "# Total"
   ]
  },
  {
   "cell_type": "code",
   "execution_count": 19,
   "id": "b29ec818",
   "metadata": {},
   "outputs": [],
   "source": [
    "def predict(model) : \n",
    "    with torch.no_grad() : \n",
    "        test_cat = torch.LongTensor(X_test[cat_cols].values)\n",
    "        test_num = torch.FloatTensor(X_test[num_cols].values)\n",
    "\n",
    "        pred = model(test_cat, test_num).squeeze()\n",
    "        \n",
    "        return pred.cpu().detach().numpy()"
   ]
  },
  {
   "cell_type": "code",
   "execution_count": 20,
   "id": "175961ba",
   "metadata": {},
   "outputs": [],
   "source": [
    "def return_pred_with_random_state(rs) : \n",
    "    batch_size = 1024\n",
    "    model =  EMBNN(inp_oup_dims, len(num_cols)).to(device)\n",
    "    model.apply(weights_init)\n",
    "    dataloader = return_dataloaders(batch_size, rs)\n",
    "    optimizer = optim.Adam(model.parameters(), lr = 0.005)\n",
    "    criterion = nn.BCELoss()\n",
    "    \n",
    "\n",
    "    trained_model = train_model(model, dataloader, optimizer, criterion, num_epoch = 300, early_stop = 10, model_path = 'EMBNN.pth')\n",
    "    pred  = predict(trained_model)\n",
    "    return pred"
   ]
  },
  {
   "cell_type": "code",
   "execution_count": 21,
   "id": "efc6248d",
   "metadata": {
    "scrolled": true
   },
   "outputs": [
    {
     "name": "stdout",
     "output_type": "stream",
     "text": [
      "===ROUND 0 Initiated with rs 6354 === \n",
      "\tOn Epoch 90, Best Model Saved with Valid Loss 0.000249 and Acc 92.86999999999999%\n",
      "\n",
      "===ROUND 1 Initiated with rs 1200 === \n",
      "\tOn Epoch 71, Best Model Saved with Valid Loss 0.00025 and Acc 92.47%\n",
      "\n",
      "===ROUND 2 Initiated with rs 6187 === \n",
      "\tOn Epoch 82, Best Model Saved with Valid Loss 0.000251 and Acc 92.27%\n",
      "\n",
      "===ROUND 3 Initiated with rs 20466 === \n",
      "\tOn Epoch 64, Best Model Saved with Valid Loss 0.000272 and Acc 92.0%\n",
      "\n",
      "===ROUND 4 Initiated with rs 25038 === \n",
      "\tOn Epoch 74, Best Model Saved with Valid Loss 0.000277 and Acc 91.2%\n",
      "\n",
      "===ROUND 5 Initiated with rs 29534 === \n",
      "\tOn Epoch 56, Best Model Saved with Valid Loss 0.000279 and Acc 91.53%\n",
      "\n",
      "===ROUND 6 Initiated with rs 25350 === \n",
      "\tOn Epoch 77, Best Model Saved with Valid Loss 0.000258 and Acc 92.13%\n",
      "\n",
      "===ROUND 7 Initiated with rs 9292 === \n",
      "\tOn Epoch 78, Best Model Saved with Valid Loss 0.000267 and Acc 92.33%\n",
      "\n",
      "===ROUND 8 Initiated with rs 16615 === \n",
      "\tOn Epoch 68, Best Model Saved with Valid Loss 0.000271 and Acc 92.13%\n",
      "\n",
      "===ROUND 9 Initiated with rs 164 === \n",
      "\tOn Epoch 75, Best Model Saved with Valid Loss 0.000258 and Acc 92.80000000000001%\n",
      "\n"
     ]
    }
   ],
   "source": [
    "preds = []\n",
    "for i in range(10) : \n",
    "    rs = np.random.randint(1,2**15)\n",
    "    print(f'===ROUND {i} Initiated with rs {rs} === ', end = '\\n\\t')\n",
    "\n",
    "    pred = return_pred_with_random_state(rs)\n",
    "    preds.append(pred)\n",
    "    print('')"
   ]
  },
  {
   "cell_type": "code",
   "execution_count": 22,
   "id": "c43c03f0",
   "metadata": {},
   "outputs": [],
   "source": [
    "pred = np.mean(preds, axis = 0).round().astype(int)\n",
    "sample['target'] = pred\n",
    "sample.to_csv('./Jay Hong EMBEDNN PYTORCH.csv', index=False)"
   ]
  }
 ],
 "metadata": {
  "kernelspec": {
   "display_name": "Python 3",
   "language": "python",
   "name": "python3"
  },
  "language_info": {
   "codemirror_mode": {
    "name": "ipython",
    "version": 3
   },
   "file_extension": ".py",
   "mimetype": "text/x-python",
   "name": "python",
   "nbconvert_exporter": "python",
   "pygments_lexer": "ipython3",
   "version": "3.8.8"
  }
 },
 "nbformat": 4,
 "nbformat_minor": 5
}
